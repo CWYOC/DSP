{
 "cells": [
  {
   "cell_type": "markdown",
   "metadata": {},
   "source": [
    "bulidmodule"
   ]
  },
  {
   "cell_type": "markdown",
   "metadata": {},
   "source": [
    "Libarys"
   ]
  },
  {
   "cell_type": "code",
   "execution_count": 1,
   "metadata": {},
   "outputs": [],
   "source": [
    "import torch\n",
    "import torch.nn as nn\n",
    "import torch.optim as optim\n",
    "from torch.utils.data import Dataset, DataLoader\n",
    "from sklearn.model_selection import train_test_split\n",
    "from sklearn.preprocessing import OneHotEncoder,LabelEncoder, MinMaxScaler\n",
    "import pandas as pd\n",
    "import numpy as np"
   ]
  },
  {
   "cell_type": "markdown",
   "metadata": {},
   "source": [
    "Dataset Loader"
   ]
  },
  {
   "cell_type": "code",
   "execution_count": 2,
   "metadata": {},
   "outputs": [],
   "source": [
    "class GeneDataset(Dataset):\n",
    "    def __init__(self, X, y):\n",
    "        self.X = torch.tensor(X, dtype=torch.float32)\n",
    "        self.y = torch.tensor(y, dtype=torch.float32)\n",
    "\n",
    "    def __len__(self):\n",
    "        return len(self.X)\n",
    "\n",
    "    def __getitem__(self, idx):\n",
    "        return self.X[idx], self.y[idx]"
   ]
  },
  {
   "cell_type": "markdown",
   "metadata": {},
   "source": [
    "Fully Connected Neural Net"
   ]
  },
  {
   "cell_type": "code",
   "execution_count": 3,
   "metadata": {},
   "outputs": [],
   "source": [
    "import torch\n",
    "import torch.nn as nn\n",
    "\n",
    "class GenePredictorCNN(nn.Module):\n",
    "    def __init__(self, input_size, output_size=11):\n",
    "        super(GenePredictorCNN, self).__init__()\n",
    "        \n",
    "        self.conv_layers = nn.Sequential(\n",
    "            nn.Conv1d(1, 32, kernel_size=3, padding=1),   # input channels=1, output=32\n",
    "            nn.ReLU(),\n",
    "            nn.BatchNorm1d(32),\n",
    "            nn.Conv1d(32, 64, kernel_size=3, padding=1),\n",
    "            nn.ReLU(),\n",
    "            nn.BatchNorm1d(64),\n",
    "            nn.Conv1d(64, 128, kernel_size=3, padding=1),\n",
    "            nn.ReLU(),\n",
    "            nn.BatchNorm1d(128),\n",
    "            nn.MaxPool1d(kernel_size=2),  # Downsample by 2\n",
    "            nn.Conv1d(128, 256, kernel_size=3, padding=1),\n",
    "            nn.ReLU(),\n",
    "            nn.BatchNorm1d(256),\n",
    "            nn.MaxPool1d(kernel_size=2)\n",
    "        )\n",
    "        \n",
    "        # Calculate output size after convolutions\n",
    "        reduced_size = input_size // 4  # 2 MaxPools (each halves the size)\n",
    "        \n",
    "        self.fc_layers = nn.Sequential(\n",
    "            nn.Flatten(),\n",
    "            nn.Linear(256 * reduced_size, 512),\n",
    "            nn.ReLU(),\n",
    "            nn.Dropout(0.5),\n",
    "            nn.Linear(512, output_size),\n",
    "            nn.Sigmoid()  # for multi-label classification\n",
    "        )\n",
    "\n",
    "    def forward(self, x):\n",
    "        x = x.unsqueeze(1)  # Add channel dimension (batch_size, 1, features)\n",
    "        x = self.conv_layers(x)\n",
    "        x = self.fc_layers(x)\n",
    "        return x\n"
   ]
  },
  {
   "cell_type": "markdown",
   "metadata": {},
   "source": [
    "Training Function"
   ]
  },
  {
   "cell_type": "code",
   "execution_count": 4,
   "metadata": {},
   "outputs": [],
   "source": [
    "def train_model(model, train_loader, val_loader, epochs=10, lr=0.001):\n",
    "    device = torch.device('mps' if torch.cuda.is_available() else 'cpu')\n",
    "    model.to(device)\n",
    "\n",
    "    criterion = nn.BCELoss()\n",
    "    optimizer = optim.Adam(model.parameters(), lr=lr)\n",
    "\n",
    "    for epoch in range(epochs):\n",
    "        model.train()\n",
    "        train_loss = 0\n",
    "        for X_batch, y_batch in train_loader:\n",
    "            X_batch, y_batch = X_batch.to(device), y_batch.to(device)\n",
    "            optimizer.zero_grad()\n",
    "            output = model(X_batch)\n",
    "            loss = criterion(output, y_batch)\n",
    "            loss.backward()\n",
    "            optimizer.step()\n",
    "            train_loss += loss.item()\n",
    "\n",
    "        model.eval()\n",
    "        val_loss = 0\n",
    "        with torch.no_grad():\n",
    "            for X_batch, y_batch in val_loader:\n",
    "                X_batch, y_batch = X_batch.to(device), y_batch.to(device)\n",
    "                output = model(X_batch)\n",
    "                loss = criterion(output, y_batch)\n",
    "                val_loss += loss.item()\n",
    "\n",
    "        print(f\"Epoch {epoch+1}/{epochs}, Train Loss: {train_loss/len(train_loader):.4f}, Val Loss: {val_loss/len(val_loader):.4f}\")\n"
   ]
  },
  {
   "cell_type": "markdown",
   "metadata": {},
   "source": [
    "Main Flow"
   ]
  },
  {
   "cell_type": "code",
   "execution_count": 6,
   "metadata": {},
   "outputs": [
    {
     "name": "stdout",
     "output_type": "stream",
     "text": [
      "Epoch 1/10, Train Loss: 0.0737, Val Loss: 0.0684\n",
      "Epoch 2/10, Train Loss: 0.0712, Val Loss: 0.0688\n",
      "Epoch 3/10, Train Loss: 0.0704, Val Loss: 0.0673\n",
      "Epoch 4/10, Train Loss: 0.0698, Val Loss: 0.0678\n",
      "Epoch 5/10, Train Loss: 0.0690, Val Loss: 0.0674\n",
      "Epoch 6/10, Train Loss: 0.0684, Val Loss: 0.0679\n",
      "Epoch 7/10, Train Loss: 0.0677, Val Loss: 0.0671\n",
      "Epoch 8/10, Train Loss: 0.0673, Val Loss: 0.0668\n",
      "Epoch 9/10, Train Loss: 0.0669, Val Loss: 0.0669\n",
      "Epoch 10/10, Train Loss: 0.0664, Val Loss: 0.0672\n"
     ]
    }
   ],
   "source": [
    "if __name__ == \"__main__\":\n",
    "    # 1. Load data\n",
    "    df = pd.read_csv(\"/Users/bearcheung/Documents/Year3/FYP/dna_100k.csv\")\n",
    "\n",
    "    # 2. Prepare input features (X) and labels (y)\n",
    "    feature_columns = [\n",
    "        'Chromosome_1', 'Chromosome_2', 'Chromosome_3', 'Chromosome_4', 'Chromosome_5',\n",
    "        'Chromosome_6', 'Chromosome_7', 'Chromosome_8', 'Chromosome_9', 'Chromosome_10',\n",
    "        'Chromosome_11', 'Chromosome_12', 'Chromosome_13', 'Chromosome_14', 'Chromosome_15',\n",
    "        'Chromosome_16', 'Chromosome_17', 'Chromosome_18', 'Chromosome_19', 'Chromosome_20',\n",
    "        'Chromosome_21', 'Chromosome_22', 'Chromosome_X', 'Chromosome_Y'\n",
    "    ]\n",
    "    label_columns = ['DISC1', 'TCF4', 'BDNF', 'DRD2', 'COMT', 'GRIN2B', 'NRG1', 'RELN', 'DTNBP1', 'HTR2A', 'Mental_Disorder']\n",
    "\n",
    "    # Only select feature columns + label columns\n",
    "    df = df[feature_columns + label_columns]\n",
    "\n",
    "    # Encode DNA sequences (A, C, G, T, etc.) into integer labels\n",
    "    for col in feature_columns:\n",
    "        le = LabelEncoder()\n",
    "        df[col] = le.fit_transform(df[col].astype(str))  # Ensure all are strings first\n",
    "\n",
    "    X = df[feature_columns].values\n",
    "    y = df[label_columns].values\n",
    "\n",
    "    # Normalize X to 0-1\n",
    "    scaler = MinMaxScaler()\n",
    "    X = scaler.fit_transform(X)\n",
    "\n",
    "    # 3. Split into train/validation sets\n",
    "    X_train, X_val, y_train, y_val = train_test_split(X, y, test_size=0.2, random_state=42)\n",
    "\n",
    "    # 4. Create DataLoaders\n",
    "    train_dataset = GeneDataset(X_train, y_train)\n",
    "    val_dataset = GeneDataset(X_val, y_val)\n",
    "    train_loader = DataLoader(train_dataset, batch_size=64, shuffle=True)\n",
    "    val_loader = DataLoader(val_dataset, batch_size=64)\n",
    "\n",
    "    # 5. Define the model\n",
    "    input_size = X_train.shape[1]\n",
    "    output_size = y_train.shape[1]\n",
    "    model = GenePredictorCNN(input_size, output_size)\n",
    "\n",
    "    # 6. Train the model\n",
    "    train_model(model, train_loader, val_loader, epochs=10)"
   ]
  },
  {
   "cell_type": "markdown",
   "metadata": {},
   "source": [
    "performance"
   ]
  },
  {
   "cell_type": "code",
   "execution_count": null,
   "metadata": {},
   "outputs": [
    {
     "name": "stdout",
     "output_type": "stream",
     "text": [
      "Accuracy: 0.9879\n",
      "Precision: 0.0000\n",
      "Recall: 0.0000\n",
      "F1 Score: 0.0000\n",
      "ROC AUC Score: 0.5748\n"
     ]
    }
   ],
   "source": [
    "from sklearn.metrics import accuracy_score, precision_score, recall_score, f1_score, roc_auc_score\n",
    "\n",
    "def evaluate_model(model, data_loader, threshold=0.5):\n",
    "    device = torch.device('cuda' if torch.cuda.is_available() else 'cpu')\n",
    "    model.eval()\n",
    "    preds = []\n",
    "    trues = []\n",
    "\n",
    "    with torch.no_grad():\n",
    "        for X_batch, y_batch in data_loader:\n",
    "            X_batch = X_batch.to(device)\n",
    "            outputs = model(X_batch)\n",
    "            outputs = outputs.cpu().numpy()\n",
    "            y_batch = y_batch.numpy()\n",
    "\n",
    "            preds.append(outputs)\n",
    "            trues.append(y_batch)\n",
    "\n",
    "    preds = np.vstack(preds)\n",
    "    trues = np.vstack(trues)\n",
    "\n",
    "    # Apply threshold to get binary predictions\n",
    "    preds_binary = (preds >= threshold).astype(int)\n",
    "\n",
    "    # Calculate scores\n",
    "    acc = accuracy_score(trues.flatten(), preds_binary.flatten())\n",
    "    prec = precision_score(trues.flatten(), preds_binary.flatten(), zero_division=0)\n",
    "    rec = recall_score(trues.flatten(), preds_binary.flatten(), zero_division=0)\n",
    "    f1 = f1_score(trues.flatten(), preds_binary.flatten(), zero_division=0)\n",
    "    roc_auc = roc_auc_score(trues.flatten(), preds.flatten())\n",
    "\n",
    "    print(f\"Accuracy: {acc:.4f}\")\n",
    "    print(f\"Precision: {prec:.4f}\")\n",
    "    print(f\"Recall: {rec:.4f}\")\n",
    "    print(f\"F1 Score: {f1:.4f}\")\n",
    "    print(f\"ROC AUC Score: {roc_auc:.4f}\")\n",
    "\n",
    "evaluate_model(model, val_loader)"
   ]
  },
  {
   "cell_type": "code",
   "execution_count": null,
   "metadata": {},
   "outputs": [
    {
     "name": "stdout",
     "output_type": "stream",
     "text": [
      "Model saved to checker.pth\n"
     ]
    }
   ],
   "source": [
    "# Save the trained model\n",
    "model_path = \"checker.pth\"\n",
    "torch.save(model.state_dict(), model_path)\n",
    "print(f\"Model saved to {model_path}\")\n"
   ]
  }
 ],
 "metadata": {
  "kernelspec": {
   "display_name": ".venv",
   "language": "python",
   "name": "python3"
  },
  "language_info": {
   "codemirror_mode": {
    "name": "ipython",
    "version": 3
   },
   "file_extension": ".py",
   "mimetype": "text/x-python",
   "name": "python",
   "nbconvert_exporter": "python",
   "pygments_lexer": "ipython3",
   "version": "3.13.2"
  }
 },
 "nbformat": 4,
 "nbformat_minor": 2
}
